{
 "cells": [
  {
   "cell_type": "code",
   "execution_count": 73,
   "metadata": {},
   "outputs": [],
   "source": [
    "import os\n",
    "import sys\n",
    "\n",
    "import numpy as np\n",
    "import matplotlib.pyplot as plt\n",
    "from skimage.measure import compare_ssim as ssim\n",
    "from skimage import io\n",
    "from skimage.filters import threshold_mean\n",
    "\n",
    "from sklearn.metrics import jaccard_score\n",
    "\n",
    "import math"
   ]
  },
  {
   "cell_type": "code",
   "execution_count": 74,
   "metadata": {},
   "outputs": [],
   "source": [
    "path_in = '/stornext/Img/data/prkfs1/m/Microscopy/Nina_Tubau/DATA/data_lattice/stack_3/GPUdecon/noisy/'\n",
    "path_out = '/stornext/Img/data/prkfs1/m/Microscopy/Nina_Tubau/DATA/data_lattice/stack_3/GPUdecon/results/'\n",
    "path_target = '/stornext/Img/data/prkfs1/m/Microscopy/Nina_Tubau/DATA/data_lattice/stack_3/GPUdecon/clean/'"
   ]
  },
  {
   "cell_type": "code",
   "execution_count": 87,
   "metadata": {},
   "outputs": [
    {
     "name": "stderr",
     "output_type": "stream",
     "text": [
      "/home/users/allstaff/tubau.n/.conda/envs/pytorch_env/lib/python3.6/site-packages/sklearn/metrics/classification.py:778: UndefinedMetricWarning: Jaccard is ill-defined and being set to 0.0 in labels with no true or predicted samples.\n",
      "  'true or predicted', average, ('jaccard',))\n"
     ]
    },
    {
     "data": {
      "image/png": "[encoded data removed]",
      "text/plain": [
       "<Figure size 432x288 with 1 Axes>"
      ]
     },
     "metadata": {
      "needs_background": "light"
     },
     "output_type": "display_data"
    },
    {
     "data": {
      "image/png": "[encoded data removed]",
      "text/plain": [
       "<Figure size 432x288 with 1 Axes>"
      ]
     },
     "metadata": {
      "needs_background": "light"
     },
     "output_type": "display_data"
    },
    {
     "data": {
      "image/png": "[encoded data removed]",
      "text/plain": [
       "<Figure size 432x288 with 1 Axes>"
      ]
     },
     "metadata": {
      "needs_background": "light"
     },
     "output_type": "display_data"
    }
   ],
   "source": [
    "def SNR(im_ref,im_test):\n",
    "    sum_ref = (im_ref**2).sum()\n",
    "    diff = ((im_ref-im_test)**2).sum()\n",
    "    snr = (10*math.log10(sum_ref/diff))\n",
    "    return snr\n",
    "\n",
    "def max_thresholding(im_ref,im_test):\n",
    "    max_ref = np.max(im_ref,axis=0)\n",
    "    max_test = np.max(im_test,axis=0)\n",
    "    thresh_ref = threshold_mean(max_ref)\n",
    "    binary_ref = max_ref > thresh_ref\n",
    "    thresh_test = threshold_mean(max_test)\n",
    "    binary_test = max_test > thresh_test\n",
    "    return binary_ref, binary_test\n",
    "\n",
    "def jaccard_measure(im_ref, im_test):\n",
    "    binary_ref, binary_test = max_thresholding(im_ref,im_test)\n",
    "    jacc_sc = jaccard_score(binary_test,binary_ref,average='weighted')\n",
    "    return jacc_sc\n",
    "\n",
    "def ssim_f(im_ref,im_test):\n",
    "    binary_ref, binary_test = max_thresholding(im_ref,im_test)\n",
    "    ssim_in = ssim(binary_ref,binary_test,multichannel=True)\n",
    "    return ssim_in\n",
    "\n",
    "def bar_plot(data,title):\n",
    "    #plt.figure(figsize=(20,20))\n",
    "    plt.title(title)\n",
    "    medianprops = {'color': 'magenta', 'linewidth': 2}\n",
    "    flierprops = {'color': 'black', 'marker': 'x'}\n",
    "    plt.boxplot(data,medianprops=medianprops, flierprops = flierprops)\n",
    "    plt.xticks([1,2],['noisy/GT','result/GT'])\n",
    "    plt.show()\n",
    "\n",
    "\n",
    "def main():\n",
    "    \n",
    "    JACC_in = []\n",
    "    JACC_out = []\n",
    "    SSIM_in=[]\n",
    "    SSIM_out = [] \n",
    "    SNR_in = []\n",
    "    SNR_out = []\n",
    "    \n",
    "    for file_ in sorted(os.listdir(path_in)):\n",
    "        \n",
    "        im_target = io.imread(path_target+file_)\n",
    "        im_input = io.imread(path_in+file_)\n",
    "        im_output = io.imread(path_out+file_)\n",
    "        \n",
    "        #computing ssim and storing in separated lists for input and result\n",
    "        ssim_in = ssim_f(im_target,im_input)\n",
    "        SSIM_in.append(ssim_in)\n",
    "        ssim_out = ssim_f(im_target,im_output)\n",
    "        SSIM_out.append(ssim_out)\n",
    "        data_ssim = [SSIM_in,SSIM_out]\n",
    "\n",
    "        \n",
    "        #computing jaccard index and storing in separated lists for input and result\n",
    "        jacc_in = jaccard_measure(im_target, im_input)\n",
    "        JACC_in.append(jacc_in)\n",
    "        jacc_out = jaccard_measure(im_target, im_output)\n",
    "        JACC_out.append(jacc_out)\n",
    "        data_jacc = [JACC_in,JACC_out]\n",
    "\n",
    "        #computing SNR and storing in separated lists for input and result\n",
    "        snr_in = SNR(im_target, im_input)\n",
    "        SNR_in.append(snr_in)\n",
    "        snr_out = SNR(im_target, im_output)\n",
    "        SNR_out.append(snr_out)\n",
    "        data_snr = [SNR_in,SNR_out]\n",
    "\n",
    "    #bar_plot(data_snr,data_jacc,data_ssim)\n",
    "    DATA = [data_snr,data_jacc,data_ssim]\n",
    "    num_metrics = len(DATA)\n",
    "    #fig,ax = plt.subplot()\n",
    "    #plt.subplot(1,3)\n",
    "    fig=plt.figure()\n",
    "    for count,value in enumerate(DATA):\n",
    "        title =['Signal to Noise Ratio','Jaccard index','Structural similarity index']\n",
    "        fig.add_subplot(1,num_metrics,count+1)\n",
    "        bar_plot(DATA[count],title[count])\n",
    "    \n",
    "if __name__ == '__main__':\n",
    "    main()"
   ]
  }
 ],
 "metadata": {
  "kernelspec": {
   "display_name": "Python (pytorch_env)",
   "language": "python",
   "name": "pytorch_env"
  },
  "language_info": {
   "codemirror_mode": {
    "name": "ipython",
    "version": 3
   },
   "file_extension": ".py",
   "mimetype": "text/x-python",
   "name": "python",
   "nbconvert_exporter": "python",
   "pygments_lexer": "ipython3",
   "version": "3.6.8"
  }
 },
 "nbformat": 4,
 "nbformat_minor": 2
}
